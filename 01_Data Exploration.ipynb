{
 "cells": [
  {
   "cell_type": "markdown",
   "metadata": {},
   "source": [
    "# Data Mining"
   ]
  },
  {
   "cell_type": "code",
   "execution_count": 3,
   "metadata": {},
   "outputs": [],
   "source": [
    "import pandas as pd"
   ]
  },
  {
   "cell_type": "code",
   "execution_count": 5,
   "metadata": {},
   "outputs": [],
   "source": [
    "data = pd.read_csv('../Data.tsv', sep = '\\t')"
   ]
  },
  {
   "cell_type": "code",
   "execution_count": 89,
   "metadata": {},
   "outputs": [
    {
     "data": {
      "text/plain": [
       "(55268, 3120)"
      ]
     },
     "execution_count": 89,
     "metadata": {},
     "output_type": "execute_result"
    }
   ],
   "source": [
    "data.shape"
   ]
  },
  {
   "cell_type": "code",
   "execution_count": 6,
   "metadata": {},
   "outputs": [
    {
     "data": {
      "text/html": [
       "<div>\n",
       "<style scoped>\n",
       "    .dataframe tbody tr th:only-of-type {\n",
       "        vertical-align: middle;\n",
       "    }\n",
       "\n",
       "    .dataframe tbody tr th {\n",
       "        vertical-align: top;\n",
       "    }\n",
       "\n",
       "    .dataframe thead th {\n",
       "        text-align: right;\n",
       "    }\n",
       "</style>\n",
       "<table border=\"1\" class=\"dataframe\">\n",
       "  <thead>\n",
       "    <tr style=\"text-align: right;\">\n",
       "      <th></th>\n",
       "      <th>CASEID</th>\n",
       "      <th>QUESTID2</th>\n",
       "      <th>CIGEVER</th>\n",
       "      <th>CIGOFRSM</th>\n",
       "      <th>CIGWILYR</th>\n",
       "      <th>CIGTRY</th>\n",
       "      <th>CIGYFU</th>\n",
       "      <th>CIGMFU</th>\n",
       "      <th>CIGREC</th>\n",
       "      <th>CIG30USE</th>\n",
       "      <th>...</th>\n",
       "      <th>IIEMPSTY</th>\n",
       "      <th>II2EMSTY</th>\n",
       "      <th>EMPSTAT4</th>\n",
       "      <th>IIEMPST4</th>\n",
       "      <th>II2EMST4</th>\n",
       "      <th>PDEN00</th>\n",
       "      <th>COUTYP2</th>\n",
       "      <th>ANALWT_C</th>\n",
       "      <th>VESTR</th>\n",
       "      <th>VEREP</th>\n",
       "    </tr>\n",
       "  </thead>\n",
       "  <tbody>\n",
       "    <tr>\n",
       "      <th>0</th>\n",
       "      <td>1</td>\n",
       "      <td>50886467</td>\n",
       "      <td>2</td>\n",
       "      <td>4</td>\n",
       "      <td>4</td>\n",
       "      <td>991</td>\n",
       "      <td>9991</td>\n",
       "      <td>91</td>\n",
       "      <td>91</td>\n",
       "      <td>91</td>\n",
       "      <td>...</td>\n",
       "      <td>1</td>\n",
       "      <td>1</td>\n",
       "      <td>99</td>\n",
       "      <td>9</td>\n",
       "      <td>9</td>\n",
       "      <td>2</td>\n",
       "      <td>2</td>\n",
       "      <td>1275.597449</td>\n",
       "      <td>30054</td>\n",
       "      <td>2</td>\n",
       "    </tr>\n",
       "    <tr>\n",
       "      <th>1</th>\n",
       "      <td>2</td>\n",
       "      <td>13766883</td>\n",
       "      <td>2</td>\n",
       "      <td>99</td>\n",
       "      <td>99</td>\n",
       "      <td>991</td>\n",
       "      <td>9991</td>\n",
       "      <td>91</td>\n",
       "      <td>91</td>\n",
       "      <td>91</td>\n",
       "      <td>...</td>\n",
       "      <td>1</td>\n",
       "      <td>1</td>\n",
       "      <td>1</td>\n",
       "      <td>1</td>\n",
       "      <td>1</td>\n",
       "      <td>2</td>\n",
       "      <td>2</td>\n",
       "      <td>5191.071173</td>\n",
       "      <td>30031</td>\n",
       "      <td>1</td>\n",
       "    </tr>\n",
       "    <tr>\n",
       "      <th>2</th>\n",
       "      <td>3</td>\n",
       "      <td>17772877</td>\n",
       "      <td>2</td>\n",
       "      <td>99</td>\n",
       "      <td>99</td>\n",
       "      <td>991</td>\n",
       "      <td>9991</td>\n",
       "      <td>91</td>\n",
       "      <td>91</td>\n",
       "      <td>91</td>\n",
       "      <td>...</td>\n",
       "      <td>1</td>\n",
       "      <td>1</td>\n",
       "      <td>1</td>\n",
       "      <td>1</td>\n",
       "      <td>1</td>\n",
       "      <td>3</td>\n",
       "      <td>3</td>\n",
       "      <td>419.742011</td>\n",
       "      <td>30056</td>\n",
       "      <td>2</td>\n",
       "    </tr>\n",
       "    <tr>\n",
       "      <th>3</th>\n",
       "      <td>4</td>\n",
       "      <td>45622817</td>\n",
       "      <td>1</td>\n",
       "      <td>99</td>\n",
       "      <td>99</td>\n",
       "      <td>13</td>\n",
       "      <td>9999</td>\n",
       "      <td>99</td>\n",
       "      <td>2</td>\n",
       "      <td>93</td>\n",
       "      <td>...</td>\n",
       "      <td>1</td>\n",
       "      <td>1</td>\n",
       "      <td>2</td>\n",
       "      <td>1</td>\n",
       "      <td>1</td>\n",
       "      <td>2</td>\n",
       "      <td>2</td>\n",
       "      <td>1449.303889</td>\n",
       "      <td>30054</td>\n",
       "      <td>1</td>\n",
       "    </tr>\n",
       "    <tr>\n",
       "      <th>4</th>\n",
       "      <td>5</td>\n",
       "      <td>17239390</td>\n",
       "      <td>1</td>\n",
       "      <td>99</td>\n",
       "      <td>99</td>\n",
       "      <td>11</td>\n",
       "      <td>9999</td>\n",
       "      <td>99</td>\n",
       "      <td>4</td>\n",
       "      <td>93</td>\n",
       "      <td>...</td>\n",
       "      <td>1</td>\n",
       "      <td>1</td>\n",
       "      <td>1</td>\n",
       "      <td>1</td>\n",
       "      <td>1</td>\n",
       "      <td>1</td>\n",
       "      <td>1</td>\n",
       "      <td>15344.293577</td>\n",
       "      <td>30012</td>\n",
       "      <td>2</td>\n",
       "    </tr>\n",
       "  </tbody>\n",
       "</table>\n",
       "<p>5 rows × 3120 columns</p>\n",
       "</div>"
      ],
      "text/plain": [
       "   CASEID  QUESTID2  CIGEVER  CIGOFRSM  CIGWILYR  CIGTRY  CIGYFU  CIGMFU  \\\n",
       "0       1  50886467        2         4         4     991    9991      91   \n",
       "1       2  13766883        2        99        99     991    9991      91   \n",
       "2       3  17772877        2        99        99     991    9991      91   \n",
       "3       4  45622817        1        99        99      13    9999      99   \n",
       "4       5  17239390        1        99        99      11    9999      99   \n",
       "\n",
       "   CIGREC  CIG30USE  ...  IIEMPSTY  II2EMSTY  EMPSTAT4  IIEMPST4  II2EMST4  \\\n",
       "0      91        91  ...         1         1        99         9         9   \n",
       "1      91        91  ...         1         1         1         1         1   \n",
       "2      91        91  ...         1         1         1         1         1   \n",
       "3       2        93  ...         1         1         2         1         1   \n",
       "4       4        93  ...         1         1         1         1         1   \n",
       "\n",
       "   PDEN00  COUTYP2      ANALWT_C  VESTR  VEREP  \n",
       "0       2        2   1275.597449  30054      2  \n",
       "1       2        2   5191.071173  30031      1  \n",
       "2       3        3    419.742011  30056      2  \n",
       "3       2        2   1449.303889  30054      1  \n",
       "4       1        1  15344.293577  30012      2  \n",
       "\n",
       "[5 rows x 3120 columns]"
      ]
     },
     "execution_count": 6,
     "metadata": {},
     "output_type": "execute_result"
    }
   ],
   "source": [
    "data.head()"
   ]
  },
  {
   "cell_type": "code",
   "execution_count": 8,
   "metadata": {},
   "outputs": [],
   "source": [
    "data.columns = data.columns.str.lower()"
   ]
  },
  {
   "cell_type": "markdown",
   "metadata": {},
   "source": [
    "from the data dictionary, isolating classifier that I want"
   ]
  },
  {
   "cell_type": "code",
   "execution_count": 10,
   "metadata": {},
   "outputs": [
    {
     "data": {
      "text/plain": [
       " 0    35609\n",
       "-9    17551\n",
       " 1     2108\n",
       "Name: mhsuithk, dtype: int64"
      ]
     },
     "execution_count": 10,
     "metadata": {},
     "output_type": "execute_result"
    }
   ],
   "source": [
    "data['mhsuithk'].value_counts()"
   ]
  },
  {
   "cell_type": "code",
   "execution_count": 11,
   "metadata": {},
   "outputs": [
    {
     "data": {
      "text/plain": [
       "2     35609\n",
       "99    17399\n",
       "1      2108\n",
       "97      107\n",
       "94       40\n",
       "98        5\n",
       "Name: suicthnk, dtype: int64"
      ]
     },
     "execution_count": 11,
     "metadata": {},
     "output_type": "execute_result"
    }
   ],
   "source": [
    "data['suicthnk'].value_counts()"
   ]
  },
  {
   "cell_type": "code",
   "execution_count": 12,
   "metadata": {},
   "outputs": [
    {
     "data": {
      "text/plain": [
       " 0    35761\n",
       "-9    17399\n",
       " 1     2108\n",
       "Name: mhsutk_u, dtype: int64"
      ]
     },
     "execution_count": 12,
     "metadata": {},
     "output_type": "execute_result"
    }
   ],
   "source": [
    "data['mhsutk_u'].value_counts()"
   ]
  },
  {
   "cell_type": "code",
   "execution_count": 13,
   "metadata": {},
   "outputs": [
    {
     "data": {
      "text/plain": [
       "-9     17399\n",
       " 0      7554\n",
       " 2      4336\n",
       " 1      4177\n",
       " 3      3795\n",
       " 4      3241\n",
       " 5      2677\n",
       " 6      2481\n",
       " 7      1719\n",
       " 8      1429\n",
       " 9      1181\n",
       " 10      996\n",
       " 12      823\n",
       " 11      813\n",
       " 13      597\n",
       " 14      408\n",
       " 15      347\n",
       " 16      280\n",
       " 17      242\n",
       " 18      236\n",
       " 24      143\n",
       " 19      126\n",
       " 20      102\n",
       " 21       68\n",
       " 22       61\n",
       " 23       37\n",
       "Name: k6scmon, dtype: int64"
      ]
     },
     "execution_count": 13,
     "metadata": {},
     "output_type": "execute_result"
    }
   ],
   "source": [
    "data['k6scmon'].value_counts()"
   ]
  },
  {
   "cell_type": "code",
   "execution_count": 14,
   "metadata": {},
   "outputs": [],
   "source": [
    "df_sui = data[(data['suicthnk'] == 1) | (data['suicthnk'] == 2)]"
   ]
  },
  {
   "cell_type": "code",
   "execution_count": 15,
   "metadata": {},
   "outputs": [],
   "source": [
    "df_impulse = data[(data['adwrsthk'] == 1) | (data['adwrsthk'] == 2)]"
   ]
  },
  {
   "cell_type": "code",
   "execution_count": 80,
   "metadata": {},
   "outputs": [],
   "source": [
    "df_drugs = data[['cigflag', 'cigyr',\n",
    "           'cigmon', 'alcflag', 'alcyr', 'alcmon', 'mrjflag', 'mrjyr',\n",
    "           'mrjmon', 'cocflag', 'cocyr', 'cocmon', 'crkflag', 'herflag',\n",
    "           'heryr', 'hermon', 'halflag', 'halyr', 'halmon', 'ecsflag',\n",
    "           'ecsyr', 'ecsmon', 'inhflag', 'anlflag', 'anlyr', 'anlmon', \n",
    "           'cpnstmfg', 'cpnstmyr', 'cpnstmmn', 'cpnmthfg', 'cpnmthyr',\n",
    "           'cpnmthmn', 'sedflag', 'sedyr', 'sedmon', 'sumflag', 'summon',\n",
    "           'sumyr', 'bingehvy', 'nilalmon', 'fualc18', 'fumj18', \n",
    "            'fucoc18', 'dnicnsp', 'mhsutk_u']]"
   ]
  },
  {
   "cell_type": "code",
   "execution_count": 60,
   "metadata": {},
   "outputs": [],
   "source": [
    "df = data[['depndill', 'abusealc', 'abuseill', 'booked','health2', 'irsex', \n",
    "           'irmarit', 'educcat2', 'catag3', 'newrace2', 'schenrl', \n",
    "           'empstaty', 'amhoutp3', 'mhsutk_u']]\n"
   ]
  },
  {
   "cell_type": "markdown",
   "metadata": {},
   "source": [
    "created the dataframe to use in predicting suicidal thoughts"
   ]
  },
  {
   "cell_type": "code",
   "execution_count": 61,
   "metadata": {},
   "outputs": [],
   "source": [
    "df = df[(df['mhsutk_u'] == 1) | (df['mhsutk_u'] == 0)]"
   ]
  },
  {
   "cell_type": "code",
   "execution_count": 63,
   "metadata": {},
   "outputs": [],
   "source": [
    "df.rename(columns = {'mhsutk_u' : 'suicidality'}, inplace = True)"
   ]
  },
  {
   "cell_type": "code",
   "execution_count": 65,
   "metadata": {},
   "outputs": [
    {
     "data": {
      "text/plain": [
       "0    35761\n",
       "1     2108\n",
       "Name: suicidality, dtype: int64"
      ]
     },
     "execution_count": 65,
     "metadata": {},
     "output_type": "execute_result"
    }
   ],
   "source": [
    "df['suicidality'].value_counts()"
   ]
  },
  {
   "cell_type": "code",
   "execution_count": 66,
   "metadata": {},
   "outputs": [],
   "source": [
    "df_no = df[df['suicidality']==0]\n",
    "\n",
    "df_yes = df[df['suicidality']==1]"
   ]
  },
  {
   "cell_type": "code",
   "execution_count": 68,
   "metadata": {},
   "outputs": [],
   "source": [
    "df_sampled_no = df_no.sample(df_yes.shape[0])"
   ]
  },
  {
   "cell_type": "code",
   "execution_count": 69,
   "metadata": {},
   "outputs": [],
   "source": [
    "df = pd.concat([df_sampled_no, df_yes])"
   ]
  },
  {
   "cell_type": "code",
   "execution_count": 70,
   "metadata": {},
   "outputs": [
    {
     "data": {
      "text/plain": [
       "Index(['depndill', 'abusealc', 'abuseill', 'booked', 'health2', 'irsex',\n",
       "       'irmarit', 'educcat2', 'catag3', 'newrace2', 'schenrl', 'empstaty',\n",
       "       'amhoutp3', 'suicidality'],\n",
       "      dtype='object')"
      ]
     },
     "execution_count": 70,
     "metadata": {},
     "output_type": "execute_result"
    }
   ],
   "source": [
    "df.columns"
   ]
  },
  {
   "cell_type": "code",
   "execution_count": 72,
   "metadata": {},
   "outputs": [],
   "source": [
    "df.rename(columns ={\n",
    "    'depndill' : 'drug_dependency',\n",
    "    'abusealc' : 'alc_abuse',\n",
    "    'abuseill' : 'drug_abuse',\n",
    "    'booked'   : 'been_to_jail',\n",
    "    'health2'  : 'overall_health',\n",
    "    'irsex'    : 'sex',\n",
    "    'irmarit'  : 'married',\n",
    "    'educcat2' : 'education_level',\n",
    "    'catag3'   : 'age_category',\n",
    "    'newrace2' : 'race', \n",
    "    'schenrl'  : 'enrolled_school',\n",
    "    'empstaty' : 'employment_status',\n",
    "    'amhoutp3' : 'received_treatment'\n",
    "}, inplace = True)"
   ]
  },
  {
   "cell_type": "code",
   "execution_count": 74,
   "metadata": {},
   "outputs": [
    {
     "data": {
      "text/plain": [
       "2    1557\n",
       "3    1238\n",
       "1     846\n",
       "4     575\n",
       "Name: overall_health, dtype: int64"
      ]
     },
     "execution_count": 74,
     "metadata": {},
     "output_type": "execute_result"
    }
   ],
   "source": [
    "df['overall_health'].value_counts()"
   ]
  },
  {
   "cell_type": "code",
   "execution_count": 77,
   "metadata": {},
   "outputs": [],
   "source": [
    "# Reversing the health variable so that higher is better, for interpretability\n",
    "\n",
    "df['overall_health'] = df['overall_health'].map({\n",
    "    4 : 1,\n",
    "    3 : 2,\n",
    "    2 : 3,\n",
    "    1 : 4\n",
    "})"
   ]
  },
  {
   "cell_type": "code",
   "execution_count": 78,
   "metadata": {},
   "outputs": [],
   "source": [
    "df.to_csv('./consolidated_dataframe.csv', index = False)"
   ]
  },
  {
   "cell_type": "markdown",
   "metadata": {},
   "source": [
    "Cleaning and sampling drug dataframe"
   ]
  },
  {
   "cell_type": "code",
   "execution_count": 83,
   "metadata": {},
   "outputs": [],
   "source": [
    "df_drugs = df_drugs[(df_drugs['mhsutk_u'] == 1) | (df_drugs['mhsutk_u'] == 0)]"
   ]
  },
  {
   "cell_type": "code",
   "execution_count": 84,
   "metadata": {},
   "outputs": [],
   "source": [
    "df_drugs.rename(columns = {'mhsutk_u' : 'suicidality'}, inplace = True)"
   ]
  },
  {
   "cell_type": "code",
   "execution_count": 85,
   "metadata": {},
   "outputs": [],
   "source": [
    "df_no = df_drugs[df_drugs['suicidality']==0]\n",
    "\n",
    "df_yes = df_drugs[df_drugs['suicidality']==1]"
   ]
  },
  {
   "cell_type": "code",
   "execution_count": 86,
   "metadata": {},
   "outputs": [],
   "source": [
    "df_sampled_no = df_no.sample(df_yes.shape[0])"
   ]
  },
  {
   "cell_type": "code",
   "execution_count": 87,
   "metadata": {},
   "outputs": [],
   "source": [
    "df_drugs = pd.concat([df_sampled_no, df_yes])"
   ]
  },
  {
   "cell_type": "code",
   "execution_count": 88,
   "metadata": {},
   "outputs": [],
   "source": [
    "df_drugs.to_csv('./drug_specific_dataframe.csv', index = False)"
   ]
  },
  {
   "cell_type": "code",
   "execution_count": null,
   "metadata": {},
   "outputs": [],
   "source": []
  }
 ],
 "metadata": {
  "kernelspec": {
   "display_name": "Python [conda env:dsi] *",
   "language": "python",
   "name": "conda-env-dsi-py"
  },
  "language_info": {
   "codemirror_mode": {
    "name": "ipython",
    "version": 3
   },
   "file_extension": ".py",
   "mimetype": "text/x-python",
   "name": "python",
   "nbconvert_exporter": "python",
   "pygments_lexer": "ipython3",
   "version": "3.7.6"
  },
  "varInspector": {
   "cols": {
    "lenName": 16,
    "lenType": 16,
    "lenVar": 40
   },
   "kernels_config": {
    "python": {
     "delete_cmd_postfix": "",
     "delete_cmd_prefix": "del ",
     "library": "var_list.py",
     "varRefreshCmd": "print(var_dic_list())"
    },
    "r": {
     "delete_cmd_postfix": ") ",
     "delete_cmd_prefix": "rm(",
     "library": "var_list.r",
     "varRefreshCmd": "cat(var_dic_list()) "
    }
   },
   "types_to_exclude": [
    "module",
    "function",
    "builtin_function_or_method",
    "instance",
    "_Feature"
   ],
   "window_display": false
  }
 },
 "nbformat": 4,
 "nbformat_minor": 4
}
