{
 "cells": [
  {
   "cell_type": "code",
   "execution_count": 328,
   "metadata": {},
   "outputs": [],
   "source": [
    "import pandas as pd\n",
    "import numpy as np\n",
    "import matplotlib.pyplot as plt\n",
    "import seaborn as sns\n",
    "\n",
    "from sklearn.pipeline import Pipeline\n",
    "from sklearn.preprocessing import StandardScaler\n",
    "from sklearn.model_selection import GridSearchCV\n",
    "from sklearn.linear_model import LogisticRegression\n",
    "from sklearn.model_selection import cross_val_score, train_test_split\n",
    "import statsmodels.api as sm"
   ]
  },
  {
   "cell_type": "markdown",
   "metadata": {},
   "source": [
    "# Modeling for prevention factors"
   ]
  },
  {
   "cell_type": "code",
   "execution_count": 330,
   "metadata": {},
   "outputs": [],
   "source": [
    "df = pd.read_csv('./consolidated_dataframe.csv')"
   ]
  },
  {
   "cell_type": "code",
   "execution_count": 331,
   "metadata": {},
   "outputs": [],
   "source": [
    "X = df.drop(columns = 'suicidality')\n",
    "y = df['suicidality']"
   ]
  },
  {
   "cell_type": "code",
   "execution_count": 332,
   "metadata": {},
   "outputs": [],
   "source": [
    "X_train, X_test, y_train, y_test = train_test_split(X, y, random_state = 6)"
   ]
  },
  {
   "cell_type": "code",
   "execution_count": 333,
   "metadata": {},
   "outputs": [],
   "source": [
    "pipe = Pipeline([\n",
    "    ('ss', StandardScaler()),\n",
    "    ('log', LogisticRegression())\n",
    "])\n",
    "\n",
    "params = {\n",
    "    'log__C' : [.3, .5, 1, 2]\n",
    "}\n",
    "\n",
    "gs = GridSearchCV(pipe, param_grid = params, cv = 5, n_jobs = 4)"
   ]
  },
  {
   "cell_type": "code",
   "execution_count": 334,
   "metadata": {},
   "outputs": [
    {
     "data": {
      "text/plain": [
       "GridSearchCV(cv=5, error_score=nan,\n",
       "             estimator=Pipeline(memory=None,\n",
       "                                steps=[('ss',\n",
       "                                        StandardScaler(copy=True,\n",
       "                                                       with_mean=True,\n",
       "                                                       with_std=True)),\n",
       "                                       ('log',\n",
       "                                        LogisticRegression(C=1.0,\n",
       "                                                           class_weight=None,\n",
       "                                                           dual=False,\n",
       "                                                           fit_intercept=True,\n",
       "                                                           intercept_scaling=1,\n",
       "                                                           l1_ratio=None,\n",
       "                                                           max_iter=100,\n",
       "                                                           multi_class='auto',\n",
       "                                                           n_jobs=None,\n",
       "                                                           penalty='l2',\n",
       "                                                           random_state=None,\n",
       "                                                           solver='lbfgs',\n",
       "                                                           tol=0.0001,\n",
       "                                                           verbose=0,\n",
       "                                                           warm_start=False))],\n",
       "                                verbose=False),\n",
       "             iid='deprecated', n_jobs=4,\n",
       "             param_grid={'log__C': [0.3, 0.5, 1, 2]}, pre_dispatch='2*n_jobs',\n",
       "             refit=True, return_train_score=False, scoring=None, verbose=0)"
      ]
     },
     "execution_count": 334,
     "metadata": {},
     "output_type": "execute_result"
    }
   ],
   "source": [
    "gs.fit(X_train, y_train)"
   ]
  },
  {
   "cell_type": "code",
   "execution_count": 335,
   "metadata": {},
   "outputs": [
    {
     "data": {
      "text/plain": [
       "0.6764705882352942"
      ]
     },
     "execution_count": 335,
     "metadata": {},
     "output_type": "execute_result"
    }
   ],
   "source": [
    "gs.score(X_train, y_train)"
   ]
  },
  {
   "cell_type": "code",
   "execution_count": 336,
   "metadata": {},
   "outputs": [
    {
     "data": {
      "text/plain": [
       "0.6527514231499051"
      ]
     },
     "execution_count": 336,
     "metadata": {},
     "output_type": "execute_result"
    }
   ],
   "source": [
    "gs.score(X_test, y_test)"
   ]
  },
  {
   "cell_type": "code",
   "execution_count": 337,
   "metadata": {},
   "outputs": [
    {
     "name": "stdout",
     "output_type": "stream",
     "text": [
      "Optimization terminated successfully.\n",
      "         Current function value: 0.623141\n",
      "         Iterations 6\n"
     ]
    }
   ],
   "source": [
    "log = sm.Logit(y, X)\n",
    "score = log.fit()"
   ]
  },
  {
   "cell_type": "code",
   "execution_count": 338,
   "metadata": {},
   "outputs": [
    {
     "data": {
      "text/html": [
       "<table class=\"simpletable\">\n",
       "<caption>Logit Regression Results</caption>\n",
       "<tr>\n",
       "  <th>Dep. Variable:</th>      <td>suicidality</td>   <th>  No. Observations:  </th>   <td>  4216</td>  \n",
       "</tr>\n",
       "<tr>\n",
       "  <th>Model:</th>                 <td>Logit</td>      <th>  Df Residuals:      </th>   <td>  4203</td>  \n",
       "</tr>\n",
       "<tr>\n",
       "  <th>Method:</th>                 <td>MLE</td>       <th>  Df Model:          </th>   <td>    12</td>  \n",
       "</tr>\n",
       "<tr>\n",
       "  <th>Date:</th>            <td>Mon, 27 Apr 2020</td> <th>  Pseudo R-squ.:     </th>   <td>0.1010</td>  \n",
       "</tr>\n",
       "<tr>\n",
       "  <th>Time:</th>                <td>17:19:57</td>     <th>  Log-Likelihood:    </th>  <td> -2627.2</td> \n",
       "</tr>\n",
       "<tr>\n",
       "  <th>converged:</th>             <td>True</td>       <th>  LL-Null:           </th>  <td> -2922.3</td> \n",
       "</tr>\n",
       "<tr>\n",
       "  <th>Covariance Type:</th>     <td>nonrobust</td>    <th>  LLR p-value:       </th> <td>1.255e-118</td>\n",
       "</tr>\n",
       "</table>\n",
       "<table class=\"simpletable\">\n",
       "<tr>\n",
       "           <td></td>             <th>coef</th>     <th>std err</th>      <th>z</th>      <th>P>|z|</th>  <th>[0.025</th>    <th>0.975]</th>  \n",
       "</tr>\n",
       "<tr>\n",
       "  <th>drug_dependency</th>    <td>    1.3937</td> <td>    0.152</td> <td>    9.149</td> <td> 0.000</td> <td>    1.095</td> <td>    1.692</td>\n",
       "</tr>\n",
       "<tr>\n",
       "  <th>alc_abuse</th>          <td>    0.8238</td> <td>    0.130</td> <td>    6.350</td> <td> 0.000</td> <td>    0.570</td> <td>    1.078</td>\n",
       "</tr>\n",
       "<tr>\n",
       "  <th>drug_abuse</th>         <td>    0.8553</td> <td>    0.252</td> <td>    3.388</td> <td> 0.001</td> <td>    0.360</td> <td>    1.350</td>\n",
       "</tr>\n",
       "<tr>\n",
       "  <th>been_to_jail</th>       <td>-3.028e-05</td> <td>    0.013</td> <td>   -0.002</td> <td> 0.998</td> <td>   -0.025</td> <td>    0.025</td>\n",
       "</tr>\n",
       "<tr>\n",
       "  <th>overall_health</th>     <td>   -0.3341</td> <td>    0.036</td> <td>   -9.370</td> <td> 0.000</td> <td>   -0.404</td> <td>   -0.264</td>\n",
       "</tr>\n",
       "<tr>\n",
       "  <th>sex</th>                <td>    0.3159</td> <td>    0.063</td> <td>    4.997</td> <td> 0.000</td> <td>    0.192</td> <td>    0.440</td>\n",
       "</tr>\n",
       "<tr>\n",
       "  <th>married</th>            <td>    0.2799</td> <td>    0.027</td> <td>   10.412</td> <td> 0.000</td> <td>    0.227</td> <td>    0.333</td>\n",
       "</tr>\n",
       "<tr>\n",
       "  <th>education_level</th>    <td>    0.0193</td> <td>    0.035</td> <td>    0.555</td> <td> 0.579</td> <td>   -0.049</td> <td>    0.087</td>\n",
       "</tr>\n",
       "<tr>\n",
       "  <th>age_category</th>       <td>   -0.0627</td> <td>    0.032</td> <td>   -1.934</td> <td> 0.053</td> <td>   -0.126</td> <td>    0.001</td>\n",
       "</tr>\n",
       "<tr>\n",
       "  <th>race</th>               <td>   -0.0125</td> <td>    0.014</td> <td>   -0.866</td> <td> 0.387</td> <td>   -0.041</td> <td>    0.016</td>\n",
       "</tr>\n",
       "<tr>\n",
       "  <th>enrolled_school</th>    <td>   -0.0391</td> <td>    0.024</td> <td>   -1.603</td> <td> 0.109</td> <td>   -0.087</td> <td>    0.009</td>\n",
       "</tr>\n",
       "<tr>\n",
       "  <th>employment_status</th>  <td>    0.1188</td> <td>    0.027</td> <td>    4.406</td> <td> 0.000</td> <td>    0.066</td> <td>    0.172</td>\n",
       "</tr>\n",
       "<tr>\n",
       "  <th>received_treatment</th> <td>   -0.3820</td> <td>    0.068</td> <td>   -5.643</td> <td> 0.000</td> <td>   -0.515</td> <td>   -0.249</td>\n",
       "</tr>\n",
       "</table>"
      ],
      "text/plain": [
       "<class 'statsmodels.iolib.summary.Summary'>\n",
       "\"\"\"\n",
       "                           Logit Regression Results                           \n",
       "==============================================================================\n",
       "Dep. Variable:            suicidality   No. Observations:                 4216\n",
       "Model:                          Logit   Df Residuals:                     4203\n",
       "Method:                           MLE   Df Model:                           12\n",
       "Date:                Mon, 27 Apr 2020   Pseudo R-squ.:                  0.1010\n",
       "Time:                        17:19:57   Log-Likelihood:                -2627.2\n",
       "converged:                       True   LL-Null:                       -2922.3\n",
       "Covariance Type:            nonrobust   LLR p-value:                1.255e-118\n",
       "======================================================================================\n",
       "                         coef    std err          z      P>|z|      [0.025      0.975]\n",
       "--------------------------------------------------------------------------------------\n",
       "drug_dependency        1.3937      0.152      9.149      0.000       1.095       1.692\n",
       "alc_abuse              0.8238      0.130      6.350      0.000       0.570       1.078\n",
       "drug_abuse             0.8553      0.252      3.388      0.001       0.360       1.350\n",
       "been_to_jail       -3.028e-05      0.013     -0.002      0.998      -0.025       0.025\n",
       "overall_health        -0.3341      0.036     -9.370      0.000      -0.404      -0.264\n",
       "sex                    0.3159      0.063      4.997      0.000       0.192       0.440\n",
       "married                0.2799      0.027     10.412      0.000       0.227       0.333\n",
       "education_level        0.0193      0.035      0.555      0.579      -0.049       0.087\n",
       "age_category          -0.0627      0.032     -1.934      0.053      -0.126       0.001\n",
       "race                  -0.0125      0.014     -0.866      0.387      -0.041       0.016\n",
       "enrolled_school       -0.0391      0.024     -1.603      0.109      -0.087       0.009\n",
       "employment_status      0.1188      0.027      4.406      0.000       0.066       0.172\n",
       "received_treatment    -0.3820      0.068     -5.643      0.000      -0.515      -0.249\n",
       "======================================================================================\n",
       "\"\"\""
      ]
     },
     "execution_count": 338,
     "metadata": {},
     "output_type": "execute_result"
    }
   ],
   "source": [
    "score.summary()"
   ]
  },
  {
   "cell_type": "code",
   "execution_count": 339,
   "metadata": {},
   "outputs": [],
   "source": [
    "coefs = dict(score.params)"
   ]
  },
  {
   "cell_type": "code",
   "execution_count": 340,
   "metadata": {},
   "outputs": [
    {
     "data": {
      "text/plain": [
       "{'drug_dependency': 1.3937116438565407,\n",
       " 'alc_abuse': 0.8237937237313198,\n",
       " 'drug_abuse': 0.8552807347204628,\n",
       " 'been_to_jail': -3.0283650812414862e-05,\n",
       " 'overall_health': -0.3340994910093474,\n",
       " 'sex': 0.3159120995938247,\n",
       " 'married': 0.2798707910870303,\n",
       " 'education_level': 0.019292028559402496,\n",
       " 'age_category': -0.06269413737276848,\n",
       " 'race': -0.01248284687234661,\n",
       " 'enrolled_school': -0.03909465190248398,\n",
       " 'employment_status': 0.11877172972914676,\n",
       " 'received_treatment': -0.3819731200858586}"
      ]
     },
     "execution_count": 340,
     "metadata": {},
     "output_type": "execute_result"
    }
   ],
   "source": [
    "coefs"
   ]
  },
  {
   "cell_type": "code",
   "execution_count": 341,
   "metadata": {},
   "outputs": [
    {
     "data": {
      "text/plain": [
       "{'drug_dependency': 4.029779435664764,\n",
       " 'alc_abuse': 2.2791298462319136,\n",
       " 'drug_abuse': 2.352034585671247,\n",
       " 'been_to_jail': 0.9999697168077327,\n",
       " 'overall_health': 0.7159825448574654,\n",
       " 'sex': 1.3715096940682334,\n",
       " 'married': 1.3229588632169798,\n",
       " 'education_level': 1.0194793222285057,\n",
       " 'age_category': 0.9392307053312908,\n",
       " 'race': 0.9875947406872492,\n",
       " 'enrolled_school': 0.9616596819200487,\n",
       " 'employment_status': 1.1261128308658483,\n",
       " 'received_treatment': 0.6825133988603859}"
      ]
     },
     "execution_count": 341,
     "metadata": {},
     "output_type": "execute_result"
    }
   ],
   "source": [
    "logits = {k:np.exp(v) for k, v in coefs.items()}\n",
    "\n",
    "logits"
   ]
  },
  {
   "cell_type": "code",
   "execution_count": 342,
   "metadata": {},
   "outputs": [],
   "source": [
    "df_coef = pd.DataFrame.from_dict(logits, orient='index')\n",
    "\n",
    "df_coef.rename(columns = {0: 'logit'}, inplace = True)\n",
    "\n",
    "df_coef['percentage change'] = (df_coef['logit']-1) * 100"
   ]
  },
  {
   "cell_type": "code",
   "execution_count": 343,
   "metadata": {},
   "outputs": [],
   "source": [
    "df_coef = df_coef.sort_values(by = 'percentage change', ascending = False)"
   ]
  },
  {
   "cell_type": "markdown",
   "metadata": {},
   "source": [
    "## Visualizations"
   ]
  },
  {
   "cell_type": "code",
   "execution_count": 217,
   "metadata": {},
   "outputs": [
    {
     "data": {
      "text/html": [
       "<div>\n",
       "<style scoped>\n",
       "    .dataframe tbody tr th:only-of-type {\n",
       "        vertical-align: middle;\n",
       "    }\n",
       "\n",
       "    .dataframe tbody tr th {\n",
       "        vertical-align: top;\n",
       "    }\n",
       "\n",
       "    .dataframe thead th {\n",
       "        text-align: right;\n",
       "    }\n",
       "</style>\n",
       "<table border=\"1\" class=\"dataframe\">\n",
       "  <thead>\n",
       "    <tr style=\"text-align: right;\">\n",
       "      <th></th>\n",
       "      <th>logit</th>\n",
       "      <th>percentage change</th>\n",
       "    </tr>\n",
       "  </thead>\n",
       "  <tbody>\n",
       "    <tr>\n",
       "      <th>drug_dependency</th>\n",
       "      <td>4.029779</td>\n",
       "      <td>302.977944</td>\n",
       "    </tr>\n",
       "    <tr>\n",
       "      <th>drug_abuse</th>\n",
       "      <td>2.352035</td>\n",
       "      <td>135.203459</td>\n",
       "    </tr>\n",
       "    <tr>\n",
       "      <th>alc_abuse</th>\n",
       "      <td>2.279130</td>\n",
       "      <td>127.912985</td>\n",
       "    </tr>\n",
       "    <tr>\n",
       "      <th>sex</th>\n",
       "      <td>1.371510</td>\n",
       "      <td>37.150969</td>\n",
       "    </tr>\n",
       "    <tr>\n",
       "      <th>married</th>\n",
       "      <td>1.322959</td>\n",
       "      <td>32.295886</td>\n",
       "    </tr>\n",
       "    <tr>\n",
       "      <th>employment_status</th>\n",
       "      <td>1.126113</td>\n",
       "      <td>12.611283</td>\n",
       "    </tr>\n",
       "    <tr>\n",
       "      <th>education_level</th>\n",
       "      <td>1.019479</td>\n",
       "      <td>1.947932</td>\n",
       "    </tr>\n",
       "    <tr>\n",
       "      <th>been_to_jail</th>\n",
       "      <td>0.999970</td>\n",
       "      <td>-0.003028</td>\n",
       "    </tr>\n",
       "    <tr>\n",
       "      <th>race</th>\n",
       "      <td>0.987595</td>\n",
       "      <td>-1.240526</td>\n",
       "    </tr>\n",
       "    <tr>\n",
       "      <th>enrolled_school</th>\n",
       "      <td>0.961660</td>\n",
       "      <td>-3.834032</td>\n",
       "    </tr>\n",
       "    <tr>\n",
       "      <th>age_category</th>\n",
       "      <td>0.939231</td>\n",
       "      <td>-6.076929</td>\n",
       "    </tr>\n",
       "    <tr>\n",
       "      <th>overall_health</th>\n",
       "      <td>0.715983</td>\n",
       "      <td>-28.401746</td>\n",
       "    </tr>\n",
       "    <tr>\n",
       "      <th>received_treatment</th>\n",
       "      <td>0.682513</td>\n",
       "      <td>-31.748660</td>\n",
       "    </tr>\n",
       "  </tbody>\n",
       "</table>\n",
       "</div>"
      ],
      "text/plain": [
       "                       logit  percentage change\n",
       "drug_dependency     4.029779         302.977944\n",
       "drug_abuse          2.352035         135.203459\n",
       "alc_abuse           2.279130         127.912985\n",
       "sex                 1.371510          37.150969\n",
       "married             1.322959          32.295886\n",
       "employment_status   1.126113          12.611283\n",
       "education_level     1.019479           1.947932\n",
       "been_to_jail        0.999970          -0.003028\n",
       "race                0.987595          -1.240526\n",
       "enrolled_school     0.961660          -3.834032\n",
       "age_category        0.939231          -6.076929\n",
       "overall_health      0.715983         -28.401746\n",
       "received_treatment  0.682513         -31.748660"
      ]
     },
     "execution_count": 217,
     "metadata": {},
     "output_type": "execute_result"
    }
   ],
   "source": [
    "df_coef"
   ]
  },
  {
   "cell_type": "code",
   "execution_count": 236,
   "metadata": {},
   "outputs": [],
   "source": [
    "df_coef_extremes = pd.concat([df_coef[:4], df_coef[10:]])"
   ]
  },
  {
   "cell_type": "code",
   "execution_count": 237,
   "metadata": {},
   "outputs": [],
   "source": [
    "df_coef_extremes.rename({'age_category': 'age'}, inplace = True)"
   ]
  },
  {
   "cell_type": "code",
   "execution_count": 327,
   "metadata": {},
   "outputs": [
    {
     "data": {
      "image/png": "[encoded data removed]",
      "text/plain": [
       "<Figure size 1008x576 with 1 Axes>"
      ]
     },
     "metadata": {
      "needs_background": "light"
     },
     "output_type": "display_data"
    }
   ],
   "source": [
    "plt.figure(figsize=(14,8))\n",
    "sns.barplot(x = df_coef_extremes.index, y = 'percentage change', \n",
    "            data = df_coef_extremes, palette = 'Spectral')\n",
    "plt.title(\"Risk factors for Suicidality\")\n",
    "plt.ylabel('% change', rotation = 0)\n",
    "plt.hlines(y=0, xmin = -1, xmax = 7, linestyles = 'dashed', colors = 'red');"
   ]
  },
  {
   "cell_type": "markdown",
   "metadata": {},
   "source": [
    "# Specific Drug Risk Factors"
   ]
  },
  {
   "cell_type": "code",
   "execution_count": 267,
   "metadata": {},
   "outputs": [],
   "source": [
    "df_drug = pd.read_csv('./drug_specific_dataframe.csv')"
   ]
  },
  {
   "cell_type": "code",
   "execution_count": 268,
   "metadata": {},
   "outputs": [
    {
     "data": {
      "text/plain": [
       "Index(['cigflag', 'cigyr', 'cigmon', 'alcflag', 'alcyr', 'alcmon', 'mrjflag',\n",
       "       'mrjyr', 'mrjmon', 'cocflag', 'cocyr', 'cocmon', 'crkflag', 'herflag',\n",
       "       'heryr', 'hermon', 'halflag', 'halyr', 'halmon', 'ecsflag', 'ecsyr',\n",
       "       'ecsmon', 'inhflag', 'anlflag', 'anlyr', 'anlmon', 'cpnstmfg',\n",
       "       'cpnstmyr', 'cpnstmmn', 'cpnmthfg', 'cpnmthyr', 'cpnmthmn', 'sedflag',\n",
       "       'sedyr', 'sedmon', 'sumflag', 'summon', 'sumyr', 'bingehvy', 'nilalmon',\n",
       "       'fualc18', 'fumj18', 'fucoc18', 'dnicnsp', 'suicidality'],\n",
       "      dtype='object')"
      ]
     },
     "execution_count": 268,
     "metadata": {},
     "output_type": "execute_result"
    }
   ],
   "source": [
    "df_drug.columns"
   ]
  },
  {
   "cell_type": "code",
   "execution_count": 287,
   "metadata": {},
   "outputs": [],
   "source": [
    "X = df_drug.drop(columns = 'suicidality')\n",
    "y = df_drug['suicidality']"
   ]
  },
  {
   "cell_type": "code",
   "execution_count": 275,
   "metadata": {},
   "outputs": [
    {
     "data": {
      "text/plain": [
       "1    2108\n",
       "0    2108\n",
       "Name: suicidality, dtype: int64"
      ]
     },
     "execution_count": 275,
     "metadata": {},
     "output_type": "execute_result"
    }
   ],
   "source": [
    "y.value_counts()"
   ]
  },
  {
   "cell_type": "code",
   "execution_count": 276,
   "metadata": {},
   "outputs": [
    {
     "name": "stdout",
     "output_type": "stream",
     "text": [
      "Optimization terminated successfully.\n",
      "         Current function value: 0.634363\n",
      "         Iterations 6\n"
     ]
    },
    {
     "data": {
      "text/html": [
       "<table class=\"simpletable\">\n",
       "<caption>Logit Regression Results</caption>\n",
       "<tr>\n",
       "  <th>Dep. Variable:</th>      <td>suicidality</td>   <th>  No. Observations:  </th>  <td>  4216</td>  \n",
       "</tr>\n",
       "<tr>\n",
       "  <th>Model:</th>                 <td>Logit</td>      <th>  Df Residuals:      </th>  <td>  4172</td>  \n",
       "</tr>\n",
       "<tr>\n",
       "  <th>Method:</th>                 <td>MLE</td>       <th>  Df Model:          </th>  <td>    43</td>  \n",
       "</tr>\n",
       "<tr>\n",
       "  <th>Date:</th>            <td>Mon, 27 Apr 2020</td> <th>  Pseudo R-squ.:     </th>  <td>0.08481</td> \n",
       "</tr>\n",
       "<tr>\n",
       "  <th>Time:</th>                <td>15:58:27</td>     <th>  Log-Likelihood:    </th> <td> -2674.5</td> \n",
       "</tr>\n",
       "<tr>\n",
       "  <th>converged:</th>             <td>True</td>       <th>  LL-Null:           </th> <td> -2922.3</td> \n",
       "</tr>\n",
       "<tr>\n",
       "  <th>Covariance Type:</th>     <td>nonrobust</td>    <th>  LLR p-value:       </th> <td>2.752e-78</td>\n",
       "</tr>\n",
       "</table>\n",
       "<table class=\"simpletable\">\n",
       "<tr>\n",
       "      <td></td>        <th>coef</th>     <th>std err</th>      <th>z</th>      <th>P>|z|</th>  <th>[0.025</th>    <th>0.975]</th>  \n",
       "</tr>\n",
       "<tr>\n",
       "  <th>cigflag</th>  <td>   -0.3636</td> <td>    0.097</td> <td>   -3.753</td> <td> 0.000</td> <td>   -0.553</td> <td>   -0.174</td>\n",
       "</tr>\n",
       "<tr>\n",
       "  <th>cigyr</th>    <td>    0.4426</td> <td>    0.146</td> <td>    3.041</td> <td> 0.002</td> <td>    0.157</td> <td>    0.728</td>\n",
       "</tr>\n",
       "<tr>\n",
       "  <th>cigmon</th>   <td>   -0.0431</td> <td>    0.154</td> <td>   -0.280</td> <td> 0.780</td> <td>   -0.345</td> <td>    0.259</td>\n",
       "</tr>\n",
       "<tr>\n",
       "  <th>alcflag</th>  <td>   -0.2303</td> <td>    0.143</td> <td>   -1.610</td> <td> 0.107</td> <td>   -0.511</td> <td>    0.050</td>\n",
       "</tr>\n",
       "<tr>\n",
       "  <th>alcyr</th>    <td>    0.3271</td> <td>    0.126</td> <td>    2.604</td> <td> 0.009</td> <td>    0.081</td> <td>    0.573</td>\n",
       "</tr>\n",
       "<tr>\n",
       "  <th>alcmon</th>   <td>   -0.4683</td> <td>    0.193</td> <td>   -2.421</td> <td> 0.015</td> <td>   -0.847</td> <td>   -0.089</td>\n",
       "</tr>\n",
       "<tr>\n",
       "  <th>mrjflag</th>  <td>   -0.2557</td> <td>    0.166</td> <td>   -1.539</td> <td> 0.124</td> <td>   -0.581</td> <td>    0.070</td>\n",
       "</tr>\n",
       "<tr>\n",
       "  <th>mrjyr</th>    <td>    0.1954</td> <td>    0.195</td> <td>    1.001</td> <td> 0.317</td> <td>   -0.187</td> <td>    0.578</td>\n",
       "</tr>\n",
       "<tr>\n",
       "  <th>mrjmon</th>   <td>    0.2438</td> <td>    0.250</td> <td>    0.974</td> <td> 0.330</td> <td>   -0.247</td> <td>    0.734</td>\n",
       "</tr>\n",
       "<tr>\n",
       "  <th>cocflag</th>  <td>   -0.1349</td> <td>    0.127</td> <td>   -1.063</td> <td> 0.288</td> <td>   -0.384</td> <td>    0.114</td>\n",
       "</tr>\n",
       "<tr>\n",
       "  <th>cocyr</th>    <td>   -0.0461</td> <td>    0.221</td> <td>   -0.208</td> <td> 0.835</td> <td>   -0.479</td> <td>    0.387</td>\n",
       "</tr>\n",
       "<tr>\n",
       "  <th>cocmon</th>   <td>   -0.0140</td> <td>    0.337</td> <td>   -0.042</td> <td> 0.967</td> <td>   -0.674</td> <td>    0.646</td>\n",
       "</tr>\n",
       "<tr>\n",
       "  <th>crkflag</th>  <td>    0.3203</td> <td>    0.184</td> <td>    1.745</td> <td> 0.081</td> <td>   -0.039</td> <td>    0.680</td>\n",
       "</tr>\n",
       "<tr>\n",
       "  <th>herflag</th>  <td>    0.1166</td> <td>    0.251</td> <td>    0.464</td> <td> 0.643</td> <td>   -0.376</td> <td>    0.609</td>\n",
       "</tr>\n",
       "<tr>\n",
       "  <th>heryr</th>    <td>   -0.0316</td> <td>    0.537</td> <td>   -0.059</td> <td> 0.953</td> <td>   -1.085</td> <td>    1.022</td>\n",
       "</tr>\n",
       "<tr>\n",
       "  <th>hermon</th>   <td>    0.2749</td> <td>    0.742</td> <td>    0.370</td> <td> 0.711</td> <td>   -1.180</td> <td>    1.729</td>\n",
       "</tr>\n",
       "<tr>\n",
       "  <th>halflag</th>  <td>   -0.1922</td> <td>    0.138</td> <td>   -1.395</td> <td> 0.163</td> <td>   -0.462</td> <td>    0.078</td>\n",
       "</tr>\n",
       "<tr>\n",
       "  <th>halyr</th>    <td>    0.3405</td> <td>    0.274</td> <td>    1.241</td> <td> 0.214</td> <td>   -0.197</td> <td>    0.878</td>\n",
       "</tr>\n",
       "<tr>\n",
       "  <th>halmon</th>   <td>   -0.5872</td> <td>    0.407</td> <td>   -1.441</td> <td> 0.150</td> <td>   -1.386</td> <td>    0.211</td>\n",
       "</tr>\n",
       "<tr>\n",
       "  <th>ecsflag</th>  <td>   -0.0569</td> <td>    0.156</td> <td>   -0.363</td> <td> 0.716</td> <td>   -0.364</td> <td>    0.250</td>\n",
       "</tr>\n",
       "<tr>\n",
       "  <th>ecsyr</th>    <td>   -0.0832</td> <td>    0.336</td> <td>   -0.248</td> <td> 0.804</td> <td>   -0.742</td> <td>    0.576</td>\n",
       "</tr>\n",
       "<tr>\n",
       "  <th>ecsmon</th>   <td>    0.2914</td> <td>    0.572</td> <td>    0.509</td> <td> 0.611</td> <td>   -0.830</td> <td>    1.413</td>\n",
       "</tr>\n",
       "<tr>\n",
       "  <th>inhflag</th>  <td>    0.3452</td> <td>    0.115</td> <td>    3.014</td> <td> 0.003</td> <td>    0.121</td> <td>    0.570</td>\n",
       "</tr>\n",
       "<tr>\n",
       "  <th>anlflag</th>  <td>    0.4340</td> <td>    0.105</td> <td>    4.140</td> <td> 0.000</td> <td>    0.229</td> <td>    0.640</td>\n",
       "</tr>\n",
       "<tr>\n",
       "  <th>anlyr</th>    <td>    0.0135</td> <td>    0.170</td> <td>    0.080</td> <td> 0.937</td> <td>   -0.319</td> <td>    0.346</td>\n",
       "</tr>\n",
       "<tr>\n",
       "  <th>anlmon</th>   <td>   -0.0951</td> <td>    0.231</td> <td>   -0.412</td> <td> 0.681</td> <td>   -0.548</td> <td>    0.358</td>\n",
       "</tr>\n",
       "<tr>\n",
       "  <th>cpnstmfg</th> <td>    0.1789</td> <td>    0.167</td> <td>    1.068</td> <td> 0.285</td> <td>   -0.149</td> <td>    0.507</td>\n",
       "</tr>\n",
       "<tr>\n",
       "  <th>cpnstmyr</th> <td>    0.1125</td> <td>    0.314</td> <td>    0.358</td> <td> 0.720</td> <td>   -0.502</td> <td>    0.727</td>\n",
       "</tr>\n",
       "<tr>\n",
       "  <th>cpnstmmn</th> <td>   -0.1871</td> <td>    0.438</td> <td>   -0.427</td> <td> 0.669</td> <td>   -1.046</td> <td>    0.672</td>\n",
       "</tr>\n",
       "<tr>\n",
       "  <th>cpnmthfg</th> <td>   -0.0708</td> <td>    0.217</td> <td>   -0.326</td> <td> 0.745</td> <td>   -0.497</td> <td>    0.355</td>\n",
       "</tr>\n",
       "<tr>\n",
       "  <th>cpnmthyr</th> <td>    0.4557</td> <td>    0.554</td> <td>    0.823</td> <td> 0.410</td> <td>   -0.629</td> <td>    1.541</td>\n",
       "</tr>\n",
       "<tr>\n",
       "  <th>cpnmthmn</th> <td>   -0.2697</td> <td>    0.738</td> <td>   -0.365</td> <td> 0.715</td> <td>   -1.716</td> <td>    1.177</td>\n",
       "</tr>\n",
       "<tr>\n",
       "  <th>sedflag</th>  <td>    0.2552</td> <td>    0.222</td> <td>    1.147</td> <td> 0.251</td> <td>   -0.181</td> <td>    0.691</td>\n",
       "</tr>\n",
       "<tr>\n",
       "  <th>sedyr</th>    <td>    0.0154</td> <td>    0.586</td> <td>    0.026</td> <td> 0.979</td> <td>   -1.133</td> <td>    1.163</td>\n",
       "</tr>\n",
       "<tr>\n",
       "  <th>sedmon</th>   <td>   -0.1760</td> <td>    0.773</td> <td>   -0.228</td> <td> 0.820</td> <td>   -1.692</td> <td>    1.340</td>\n",
       "</tr>\n",
       "<tr>\n",
       "  <th>sumflag</th>  <td>    0.5935</td> <td>    0.165</td> <td>    3.596</td> <td> 0.000</td> <td>    0.270</td> <td>    0.917</td>\n",
       "</tr>\n",
       "<tr>\n",
       "  <th>summon</th>   <td>   -0.1672</td> <td>    0.256</td> <td>   -0.654</td> <td> 0.513</td> <td>   -0.668</td> <td>    0.334</td>\n",
       "</tr>\n",
       "<tr>\n",
       "  <th>sumyr</th>    <td>    0.4186</td> <td>    0.189</td> <td>    2.212</td> <td> 0.027</td> <td>    0.048</td> <td>    0.790</td>\n",
       "</tr>\n",
       "<tr>\n",
       "  <th>bingehvy</th> <td>    0.0197</td> <td>    0.054</td> <td>    0.364</td> <td> 0.716</td> <td>   -0.087</td> <td>    0.126</td>\n",
       "</tr>\n",
       "<tr>\n",
       "  <th>nilalmon</th> <td>   -0.2592</td> <td>    0.187</td> <td>   -1.387</td> <td> 0.165</td> <td>   -0.626</td> <td>    0.107</td>\n",
       "</tr>\n",
       "<tr>\n",
       "  <th>fualc18</th>  <td>   -0.1482</td> <td>    0.081</td> <td>   -1.823</td> <td> 0.068</td> <td>   -0.308</td> <td>    0.011</td>\n",
       "</tr>\n",
       "<tr>\n",
       "  <th>fumj18</th>   <td>   -0.0801</td> <td>    0.095</td> <td>   -0.839</td> <td> 0.401</td> <td>   -0.267</td> <td>    0.107</td>\n",
       "</tr>\n",
       "<tr>\n",
       "  <th>fucoc18</th>  <td>    0.0359</td> <td>    0.136</td> <td>    0.264</td> <td> 0.791</td> <td>   -0.230</td> <td>    0.302</td>\n",
       "</tr>\n",
       "<tr>\n",
       "  <th>dnicnsp</th>  <td>    0.1510</td> <td>    0.115</td> <td>    1.315</td> <td> 0.189</td> <td>   -0.074</td> <td>    0.376</td>\n",
       "</tr>\n",
       "</table>"
      ],
      "text/plain": [
       "<class 'statsmodels.iolib.summary.Summary'>\n",
       "\"\"\"\n",
       "                           Logit Regression Results                           \n",
       "==============================================================================\n",
       "Dep. Variable:            suicidality   No. Observations:                 4216\n",
       "Model:                          Logit   Df Residuals:                     4172\n",
       "Method:                           MLE   Df Model:                           43\n",
       "Date:                Mon, 27 Apr 2020   Pseudo R-squ.:                 0.08481\n",
       "Time:                        15:58:27   Log-Likelihood:                -2674.5\n",
       "converged:                       True   LL-Null:                       -2922.3\n",
       "Covariance Type:            nonrobust   LLR p-value:                 2.752e-78\n",
       "==============================================================================\n",
       "                 coef    std err          z      P>|z|      [0.025      0.975]\n",
       "------------------------------------------------------------------------------\n",
       "cigflag       -0.3636      0.097     -3.753      0.000      -0.553      -0.174\n",
       "cigyr          0.4426      0.146      3.041      0.002       0.157       0.728\n",
       "cigmon        -0.0431      0.154     -0.280      0.780      -0.345       0.259\n",
       "alcflag       -0.2303      0.143     -1.610      0.107      -0.511       0.050\n",
       "alcyr          0.3271      0.126      2.604      0.009       0.081       0.573\n",
       "alcmon        -0.4683      0.193     -2.421      0.015      -0.847      -0.089\n",
       "mrjflag       -0.2557      0.166     -1.539      0.124      -0.581       0.070\n",
       "mrjyr          0.1954      0.195      1.001      0.317      -0.187       0.578\n",
       "mrjmon         0.2438      0.250      0.974      0.330      -0.247       0.734\n",
       "cocflag       -0.1349      0.127     -1.063      0.288      -0.384       0.114\n",
       "cocyr         -0.0461      0.221     -0.208      0.835      -0.479       0.387\n",
       "cocmon        -0.0140      0.337     -0.042      0.967      -0.674       0.646\n",
       "crkflag        0.3203      0.184      1.745      0.081      -0.039       0.680\n",
       "herflag        0.1166      0.251      0.464      0.643      -0.376       0.609\n",
       "heryr         -0.0316      0.537     -0.059      0.953      -1.085       1.022\n",
       "hermon         0.2749      0.742      0.370      0.711      -1.180       1.729\n",
       "halflag       -0.1922      0.138     -1.395      0.163      -0.462       0.078\n",
       "halyr          0.3405      0.274      1.241      0.214      -0.197       0.878\n",
       "halmon        -0.5872      0.407     -1.441      0.150      -1.386       0.211\n",
       "ecsflag       -0.0569      0.156     -0.363      0.716      -0.364       0.250\n",
       "ecsyr         -0.0832      0.336     -0.248      0.804      -0.742       0.576\n",
       "ecsmon         0.2914      0.572      0.509      0.611      -0.830       1.413\n",
       "inhflag        0.3452      0.115      3.014      0.003       0.121       0.570\n",
       "anlflag        0.4340      0.105      4.140      0.000       0.229       0.640\n",
       "anlyr          0.0135      0.170      0.080      0.937      -0.319       0.346\n",
       "anlmon        -0.0951      0.231     -0.412      0.681      -0.548       0.358\n",
       "cpnstmfg       0.1789      0.167      1.068      0.285      -0.149       0.507\n",
       "cpnstmyr       0.1125      0.314      0.358      0.720      -0.502       0.727\n",
       "cpnstmmn      -0.1871      0.438     -0.427      0.669      -1.046       0.672\n",
       "cpnmthfg      -0.0708      0.217     -0.326      0.745      -0.497       0.355\n",
       "cpnmthyr       0.4557      0.554      0.823      0.410      -0.629       1.541\n",
       "cpnmthmn      -0.2697      0.738     -0.365      0.715      -1.716       1.177\n",
       "sedflag        0.2552      0.222      1.147      0.251      -0.181       0.691\n",
       "sedyr          0.0154      0.586      0.026      0.979      -1.133       1.163\n",
       "sedmon        -0.1760      0.773     -0.228      0.820      -1.692       1.340\n",
       "sumflag        0.5935      0.165      3.596      0.000       0.270       0.917\n",
       "summon        -0.1672      0.256     -0.654      0.513      -0.668       0.334\n",
       "sumyr          0.4186      0.189      2.212      0.027       0.048       0.790\n",
       "bingehvy       0.0197      0.054      0.364      0.716      -0.087       0.126\n",
       "nilalmon      -0.2592      0.187     -1.387      0.165      -0.626       0.107\n",
       "fualc18       -0.1482      0.081     -1.823      0.068      -0.308       0.011\n",
       "fumj18        -0.0801      0.095     -0.839      0.401      -0.267       0.107\n",
       "fucoc18        0.0359      0.136      0.264      0.791      -0.230       0.302\n",
       "dnicnsp        0.1510      0.115      1.315      0.189      -0.074       0.376\n",
       "==============================================================================\n",
       "\"\"\""
      ]
     },
     "execution_count": 276,
     "metadata": {},
     "output_type": "execute_result"
    }
   ],
   "source": [
    "log = sm.Logit(y, X)\n",
    "score = log.fit()\n",
    "score.summary()"
   ]
  },
  {
   "cell_type": "code",
   "execution_count": 285,
   "metadata": {},
   "outputs": [],
   "source": [
    "raw_coefs = dict(score.params)"
   ]
  },
  {
   "cell_type": "code",
   "execution_count": 318,
   "metadata": {},
   "outputs": [],
   "source": [
    "significant_drugs = ['anlflag', 'inhflag', 'alcyr', 'crkflag', \n",
    "                    ]"
   ]
  },
  {
   "cell_type": "code",
   "execution_count": 319,
   "metadata": {},
   "outputs": [],
   "source": [
    "drug_coefs = {k:np.exp(v) for k,v in raw_coefs.items() if k in significant_drugs}"
   ]
  },
  {
   "cell_type": "code",
   "execution_count": 320,
   "metadata": {},
   "outputs": [],
   "source": [
    "drug_coefs = pd.DataFrame.from_dict(drug_coefs, orient='index')"
   ]
  },
  {
   "cell_type": "code",
   "execution_count": 321,
   "metadata": {},
   "outputs": [],
   "source": [
    "drug_coefs.rename(columns = {0: 'logit'}, inplace = True)\n",
    "\n",
    "drug_coefs = drug_coefs.sort_values(by = 'logit', ascending = False)"
   ]
  },
  {
   "cell_type": "code",
   "execution_count": 322,
   "metadata": {},
   "outputs": [],
   "source": [
    "drug_coefs.rename({\n",
    "    'sumflag' : 'any drug',\n",
    "    'anlflag' : 'any illicit pain relievers',\n",
    "    'inhflag' : 'any inhalents',\n",
    "    'alcyr'   : 'alcohol in past year',\n",
    "    'crkflag' : 'any crack cocaine use'\n",
    "}, inplace = True)"
   ]
  },
  {
   "cell_type": "code",
   "execution_count": 323,
   "metadata": {},
   "outputs": [
    {
     "data": {
      "text/html": [
       "<div>\n",
       "<style scoped>\n",
       "    .dataframe tbody tr th:only-of-type {\n",
       "        vertical-align: middle;\n",
       "    }\n",
       "\n",
       "    .dataframe tbody tr th {\n",
       "        vertical-align: top;\n",
       "    }\n",
       "\n",
       "    .dataframe thead th {\n",
       "        text-align: right;\n",
       "    }\n",
       "</style>\n",
       "<table border=\"1\" class=\"dataframe\">\n",
       "  <thead>\n",
       "    <tr style=\"text-align: right;\">\n",
       "      <th></th>\n",
       "      <th>logit</th>\n",
       "    </tr>\n",
       "  </thead>\n",
       "  <tbody>\n",
       "    <tr>\n",
       "      <th>any illicit pain relievers</th>\n",
       "      <td>1.543481</td>\n",
       "    </tr>\n",
       "    <tr>\n",
       "      <th>any inhalents</th>\n",
       "      <td>1.412224</td>\n",
       "    </tr>\n",
       "    <tr>\n",
       "      <th>alcohol in past year</th>\n",
       "      <td>1.387004</td>\n",
       "    </tr>\n",
       "    <tr>\n",
       "      <th>any crack cocaine use</th>\n",
       "      <td>1.377517</td>\n",
       "    </tr>\n",
       "  </tbody>\n",
       "</table>\n",
       "</div>"
      ],
      "text/plain": [
       "                               logit\n",
       "any illicit pain relievers  1.543481\n",
       "any inhalents               1.412224\n",
       "alcohol in past year        1.387004\n",
       "any crack cocaine use       1.377517"
      ]
     },
     "execution_count": 323,
     "metadata": {},
     "output_type": "execute_result"
    }
   ],
   "source": [
    "drug_coefs"
   ]
  },
  {
   "cell_type": "code",
   "execution_count": null,
   "metadata": {},
   "outputs": [],
   "source": []
  }
 ],
 "metadata": {
  "kernelspec": {
   "display_name": "Python [conda env:dsi] *",
   "language": "python",
   "name": "conda-env-dsi-py"
  },
  "language_info": {
   "codemirror_mode": {
    "name": "ipython",
    "version": 3
   },
   "file_extension": ".py",
   "mimetype": "text/x-python",
   "name": "python",
   "nbconvert_exporter": "python",
   "pygments_lexer": "ipython3",
   "version": "3.7.6"
  },
  "varInspector": {
   "cols": {
    "lenName": 16,
    "lenType": 16,
    "lenVar": 40
   },
   "kernels_config": {
    "python": {
     "delete_cmd_postfix": "",
     "delete_cmd_prefix": "del ",
     "library": "var_list.py",
     "varRefreshCmd": "print(var_dic_list())"
    },
    "r": {
     "delete_cmd_postfix": ") ",
     "delete_cmd_prefix": "rm(",
     "library": "var_list.r",
     "varRefreshCmd": "cat(var_dic_list()) "
    }
   },
   "position": {
    "height": "428.7364196777344px",
    "left": "683.6141357421875px",
    "right": "20px",
    "top": "120px",
    "width": "297.25543212890625px"
   },
   "types_to_exclude": [
    "module",
    "function",
    "builtin_function_or_method",
    "instance",
    "_Feature"
   ],
   "window_display": false
  }
 },
 "nbformat": 4,
 "nbformat_minor": 4
}
